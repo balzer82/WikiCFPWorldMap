{
 "metadata": {
  "name": ""
 },
 "nbformat": 3,
 "nbformat_minor": 0,
 "worksheets": [
  {
   "cells": [
    {
     "cell_type": "heading",
     "level": 1,
     "metadata": {},
     "source": [
      "WikiCFP Conferences World Map"
     ]
    },
    {
     "cell_type": "code",
     "collapsed": false,
     "input": [
      "from mpl_toolkits.basemap import Basemap\n",
      "import matplotlib.pyplot as plt\n",
      "import requests\n",
      "from bs4 import BeautifulSoup\n",
      "import numpy as np\n",
      "import time\n",
      "import simplekml"
     ],
     "language": "python",
     "metadata": {},
     "outputs": [],
     "prompt_number": 1
    },
    {
     "cell_type": "heading",
     "level": 2,
     "metadata": {},
     "source": [
      "Convert Address to LatLon"
     ]
    },
    {
     "cell_type": "code",
     "collapsed": false,
     "input": [
      "def address2coord(addr):\n",
      "    \n",
      "    result = None\n",
      "    address = addr\n",
      "    \n",
      "    if 'TBD' in addr or 'N/A' in addr:\n",
      "        print 'No location determined yet.'\n",
      "        return (u'0.0', u'0.0')\n",
      "    \n",
      "    while result is None:\n",
      "        try:\n",
      "            url = 'http://maps.googleapis.com/maps/api/geocode/xml'\n",
      "            payload = {'address': unicode(address), 'sensor': 'true'}\n",
      "            \n",
      "            try:\n",
      "                response = requests.get(url, params=payload)\n",
      "            except Exception, e:\n",
      "                print e.message\n",
      "                return Error(2, \"Google\", \"Google nicht erreichbar.\")\n",
      "        \n",
      "            if response.status_code != 200:\n",
      "                print \"Can't connect to Google! (status code: \" + response.status_code + \")\"    \n",
      "                return Error(response.status_code, \"Google\", \"Google Server nicht erreichbar\")\n",
      "            \n",
      "            if type(response.content) is unicode:\n",
      "                soup = BeautifulSoup(response.content.encode('utf8'))\n",
      "            else:\n",
      "                soup = BeautifulSoup(response.content)\n",
      "\n",
      "            \n",
      "            #print response.content\n",
      "\n",
      "            if soup.find('status').string == 'OK':\n",
      "                print('Found Location.')\n",
      "                result = True\n",
      "                return (soup.find('lat').string , soup.find('lng').string)\n",
      "            elif soup.find('status').string == 'OVER_QUERY_LIMIT':\n",
      "                print 'Google API Query Limit reached. Waiting... (maybe you should renew your IP)'\n",
      "                time.sleep(5)\n",
      "            elif soup.find('status').string == 'ZERO_RESULTS':\n",
      "                print '\\n' + unicode(address)\n",
      "                print \"not found!\"\n",
      "                result = True\n",
      "                return (u'0.0', u'0.0')\n",
      "            else:\n",
      "                print '\\n' + unicode(address) + '\\n'\n",
      "                print response.url\n",
      "                print \"not found! Giving up...\"\n",
      "                result = True\n",
      "                return (u'0.0', u'0.0')\n",
      "\n",
      "        except:\n",
      "            pass"
     ],
     "language": "python",
     "metadata": {},
     "outputs": [],
     "prompt_number": 2
    },
    {
     "cell_type": "heading",
     "level": 2,
     "metadata": {},
     "source": [
      "Crawl the conference search"
     ]
    },
    {
     "cell_type": "heading",
     "level": 2,
     "metadata": {},
     "source": [
      "Extract the Data"
     ]
    },
    {
     "cell_type": "code",
     "collapsed": false,
     "input": [
      "confs={}\n",
      "confname=[]\n",
      "confdate=[]\n",
      "confloc =[]\n",
      "conflat =[]\n",
      "conflon =[]\n",
      "confurl =[]\n",
      "confdesc=[]\n",
      "cfpdate =[]\n",
      "print('Extracting the data from website')\n",
      "\n",
      "# Daten von iEEE Webseite holen\n",
      "url='http://www.wikicfp.com/cfp/allcfp'\n",
      "\n",
      "site = 0\n",
      "moredata=True\n",
      "\n",
      "while moredata and site < 10:\n",
      "    \n",
      "    site+=1\n",
      "    # Fire the request\n",
      "    try:\n",
      "        print('Requesting Conference Search...')\n",
      "        data = requests.get(url, params={'page': site})\n",
      "        print('Done.')\n",
      "    except Exception, e:\n",
      "        moredata=False\n",
      "        print e.message\n",
      "    if data.status_code != 200:\n",
      "        print \"Can't connect to WikiCFP! (status code: \" + response.status_code + \")\"        \n",
      "    \n",
      "    # Crawl the Data\n",
      "    soup = BeautifulSoup(data.text)\n",
      "\n",
      "    \n",
      "    idx=0\n",
      "    for content in soup.body.find_all('div', attrs={'class' : 'contsec'}):\n",
      "        for table in content.find_all('tr', attrs={'bgcolor' : ['#f6f6f6','#e6e6e6']}):\n",
      "            for infos in table.find_all('td', attrs={'align' : 'left'}):\n",
      "    \n",
      "                # Tabelle durchgehen\n",
      "                if idx==0:\n",
      "                    # Conference Name\n",
      "                    confname.append(infos.a.text.strip())\n",
      "                    confurl.append('http://www.wikicfp.com' + infos.a['href'])\n",
      "    \n",
      "                elif idx==1:\n",
      "                    # Ausf\u00fchrlicher Name\n",
      "                    confdesc.append(infos.text.strip())\n",
      "                \n",
      "                elif idx==2:\n",
      "                    # Datum\n",
      "                    confdate.append(infos.text.strip())\n",
      "                    \n",
      "                elif idx==3:\n",
      "                    # Ort\n",
      "                    location = infos.text.strip()\n",
      "        \n",
      "                    print location\n",
      "                    confloc.append(location) \n",
      "                    # Geoencoding\n",
      "                    lat,lon = address2coord(location)\n",
      "                    conflat.append(float(lat))\n",
      "                    conflon.append(float(lon))\n",
      "                \n",
      "                elif idx==4:\n",
      "                    # Call For Papers Deadline\n",
      "                    cfpdate.append(infos.text.strip())\n",
      "                    \n",
      "                else:\n",
      "                    print(u'Unklar, was das f\u00fcr Daten sind.')\n",
      "        \n",
      "    \n",
      "    \n",
      "                idx+=1\n",
      "                if idx==5:\n",
      "                    idx=0\n",
      "        \n",
      "\n",
      "confs = zip(confname,confdate,conflat,conflon,confloc,confurl,confdesc,cfpdate)\n",
      "print('Done.')\n",
      "\n",
      "# Print the Table           \n",
      "#for i in range(len(confname)):\n",
      "#    print('%s findet am %s in %s statt.\\n' % (confname[i], confdate[i], confloc[i]))"
     ],
     "language": "python",
     "metadata": {},
     "outputs": [
      {
       "output_type": "stream",
       "stream": "stdout",
       "text": [
        "Extracting the data from website\n",
        "Requesting Conference Search...\n",
        "Done."
       ]
      },
      {
       "output_type": "stream",
       "stream": "stdout",
       "text": [
        "\n",
        "Beijing, China"
       ]
      },
      {
       "output_type": "stream",
       "stream": "stdout",
       "text": [
        "\n",
        "Found Location."
       ]
      },
      {
       "output_type": "stream",
       "stream": "stdout",
       "text": [
        "\n",
        "Vasteras, Sweden\n",
        "Found Location."
       ]
      },
      {
       "output_type": "stream",
       "stream": "stdout",
       "text": [
        "\n",
        "Trondheim, Norway\n",
        "Found Location."
       ]
      },
      {
       "output_type": "stream",
       "stream": "stdout",
       "text": [
        "\n",
        "Sendai Miyagi Japan\n",
        "Found Location."
       ]
      },
      {
       "output_type": "stream",
       "stream": "stdout",
       "text": [
        "\n",
        "San Francisco, USA\n",
        "Found Location."
       ]
      },
      {
       "output_type": "stream",
       "stream": "stdout",
       "text": [
        "\n",
        "Reykjavik, Iceland\n",
        "Found Location."
       ]
      },
      {
       "output_type": "stream",
       "stream": "stdout",
       "text": [
        "\n",
        "Dublin, Ireland\n",
        "Found Location."
       ]
      },
      {
       "output_type": "stream",
       "stream": "stdout",
       "text": [
        "\n",
        "Lisbon, Portugal\n",
        "Found Location."
       ]
      },
      {
       "output_type": "stream",
       "stream": "stdout",
       "text": [
        "\n",
        "Kochi, Kerala, India\n",
        "Found Location."
       ]
      },
      {
       "output_type": "stream",
       "stream": "stdout",
       "text": [
        "\n",
        "Craiova, Romania\n",
        "Found Location."
       ]
      },
      {
       "output_type": "stream",
       "stream": "stdout",
       "text": [
        "\n",
        "Reykjavik (Iceland)\n",
        "Found Location."
       ]
      },
      {
       "output_type": "stream",
       "stream": "stdout",
       "text": [
        "\n",
        "http://ge.toroudshomal.com/\n",
        "Google API Query Limit reached. Waiting... (maybe you should renew your IP)"
       ]
      },
      {
       "output_type": "stream",
       "stream": "stdout",
       "text": [
        "\n",
        "\n",
        "http://ge.toroudshomal.com/"
       ]
      },
      {
       "output_type": "stream",
       "stream": "stdout",
       "text": [
        "\n",
        "not found!\n",
        "Tetuan, Morocco\n",
        "Found Location."
       ]
      },
      {
       "output_type": "stream",
       "stream": "stdout",
       "text": [
        "\n",
        "Delhi,India\n",
        "Found Location."
       ]
      },
      {
       "output_type": "stream",
       "stream": "stdout",
       "text": [
        "\n",
        "Amsterdam, NL\n",
        "Found Location."
       ]
      },
      {
       "output_type": "stream",
       "stream": "stdout",
       "text": [
        "\n",
        "Djerba-Tunisia\n",
        "Found Location."
       ]
      },
      {
       "output_type": "stream",
       "stream": "stdout",
       "text": [
        "\n",
        "\u00e5\u008f\u00b0\u00e6\u00b9\u00be\u00e7\u009c\u0081\u00e5\u008f\u00b0\u00e4\u00b8\u00ad\u00e5\u00b8\u0082\n",
        "\n",
        "\u00e5\u008f\u00b0\u00e6\u00b9\u00be\u00e7\u009c\u0081\u00e5\u008f\u00b0\u00e4\u00b8\u00ad\u00e5\u00b8\u0082\n"
       ]
      },
      {
       "output_type": "stream",
       "stream": "stdout",
       "text": [
        "\n",
        "http://maps.googleapis.com/maps/api/geocode/xml?sensor=true&address=%C3%A5%C2%8F%C2%B0%C3%A6%C2%B9%C2%BE%C3%A7%C2%9C%C2%81%C3%A5%C2%8F%C2%B0%C3%A4%C2%B8%C2%AD%C3%A5%C2%B8%C2%82\n",
        "not found! Giving up...\n",
        "Novosibirsk, Russia\n",
        "Found Location."
       ]
      },
      {
       "output_type": "stream",
       "stream": "stdout",
       "text": [
        "\n",
        "Auckland - New Zealand\n",
        "Found Location."
       ]
      },
      {
       "output_type": "stream",
       "stream": "stdout",
       "text": [
        "\n",
        "Surabaya, East Java Province, Indonesia\n",
        "Found Location."
       ]
      },
      {
       "output_type": "stream",
       "stream": "stdout",
       "text": [
        "\n",
        "Requesting Conference Search...\n",
        "Done."
       ]
      },
      {
       "output_type": "stream",
       "stream": "stdout",
       "text": [
        "\n",
        "Reims, France"
       ]
      },
      {
       "output_type": "stream",
       "stream": "stdout",
       "text": [
        "\n",
        "Found Location."
       ]
      },
      {
       "output_type": "stream",
       "stream": "stdout",
       "text": [
        "\n",
        "Molika, Bitola, Macedonia\n",
        "Found Location."
       ]
      },
      {
       "output_type": "stream",
       "stream": "stdout",
       "text": [
        "\n",
        "Beijing, China\n",
        "Found Location."
       ]
      },
      {
       "output_type": "stream",
       "stream": "stdout",
       "text": [
        "\n",
        "Kuala Lumpur, Malaysia\n",
        "Found Location."
       ]
      },
      {
       "output_type": "stream",
       "stream": "stdout",
       "text": [
        "\n",
        "Istanbul / TURKEY\n",
        "Found Location."
       ]
      },
      {
       "output_type": "stream",
       "stream": "stdout",
       "text": [
        "\n",
        "Istanbul / TURKEY\n",
        "Found Location."
       ]
      },
      {
       "output_type": "stream",
       "stream": "stdout",
       "text": [
        "\n",
        "Santiago de Chile\n",
        "Found Location."
       ]
      },
      {
       "output_type": "stream",
       "stream": "stdout",
       "text": [
        "\n",
        "Marseille, France\n",
        "Found Location."
       ]
      },
      {
       "output_type": "stream",
       "stream": "stdout",
       "text": [
        "\n",
        "Munich, Germany\n",
        "Found Location."
       ]
      },
      {
       "output_type": "stream",
       "stream": "stdout",
       "text": [
        "\n",
        "Seattle, USA\n",
        "Found Location."
       ]
      },
      {
       "output_type": "stream",
       "stream": "stdout",
       "text": [
        "\n",
        "Paphos, Cyprus\n",
        "Found Location."
       ]
      },
      {
       "output_type": "stream",
       "stream": "stdout",
       "text": [
        "\n",
        "Sofia. Bulgaria\n",
        "Google API Query Limit reached. Waiting... (maybe you should renew your IP)"
       ]
      },
      {
       "output_type": "stream",
       "stream": "stdout",
       "text": [
        "\n",
        "Found Location."
       ]
      },
      {
       "output_type": "stream",
       "stream": "stdout",
       "text": [
        "\n",
        "Dalian, China.\n",
        "Found Location."
       ]
      },
      {
       "output_type": "stream",
       "stream": "stdout",
       "text": [
        "\n",
        "Miami, Florida\n",
        "Found Location."
       ]
      },
      {
       "output_type": "stream",
       "stream": "stdout",
       "text": [
        "\n",
        "Guimar\u00c3\u00a3es, Portugal\n",
        "Found Location."
       ]
      },
      {
       "output_type": "stream",
       "stream": "stdout",
       "text": [
        "\n",
        "Barcelona, Spain\n",
        "Found Location."
       ]
      },
      {
       "output_type": "stream",
       "stream": "stdout",
       "text": [
        "\n",
        "Budapest\n",
        "Found Location."
       ]
      },
      {
       "output_type": "stream",
       "stream": "stdout",
       "text": [
        "\n",
        "Boston, MA\n",
        "Found Location."
       ]
      },
      {
       "output_type": "stream",
       "stream": "stdout",
       "text": [
        "\n",
        "San Diego, CA\n",
        "Found Location."
       ]
      },
      {
       "output_type": "stream",
       "stream": "stdout",
       "text": [
        "\n",
        "University of London\n",
        "Found Location."
       ]
      },
      {
       "output_type": "stream",
       "stream": "stdout",
       "text": [
        "\n",
        "Requesting Conference Search...\n",
        "Done."
       ]
      },
      {
       "output_type": "stream",
       "stream": "stdout",
       "text": [
        "\n",
        "Iasi"
       ]
      },
      {
       "output_type": "stream",
       "stream": "stdout",
       "text": [
        "\n",
        "Found Location."
       ]
      },
      {
       "output_type": "stream",
       "stream": "stdout",
       "text": [
        "\n",
        "Lille, France\n",
        "Found Location."
       ]
      },
      {
       "output_type": "stream",
       "stream": "stdout",
       "text": [
        "\n",
        "N/A\n",
        "No location determined yet.\n",
        "Novi Sad, Serbia\n",
        "Found Location."
       ]
      },
      {
       "output_type": "stream",
       "stream": "stdout",
       "text": [
        "\n",
        "ISTANBUL\n",
        "Found Location."
       ]
      },
      {
       "output_type": "stream",
       "stream": "stdout",
       "text": [
        "\n",
        "Toulouse, France\n",
        "Found Location."
       ]
      },
      {
       "output_type": "stream",
       "stream": "stdout",
       "text": [
        "\n",
        "Munich, Germany\n",
        "Found Location."
       ]
      },
      {
       "output_type": "stream",
       "stream": "stdout",
       "text": [
        "\n",
        "Copenhagen, Demark\n",
        "Found Location."
       ]
      },
      {
       "output_type": "stream",
       "stream": "stdout",
       "text": [
        "\n",
        "Copenhagen, Demark\n",
        "Found Location."
       ]
      },
      {
       "output_type": "stream",
       "stream": "stdout",
       "text": [
        "\n",
        "Copenhagen, Demark\n",
        "Found Location."
       ]
      },
      {
       "output_type": "stream",
       "stream": "stdout",
       "text": [
        "\n",
        "Hong Kong, China\n",
        "Found Location."
       ]
      },
      {
       "output_type": "stream",
       "stream": "stdout",
       "text": [
        "\n",
        "Dubai, UAE\n",
        "Found Location."
       ]
      },
      {
       "output_type": "stream",
       "stream": "stdout",
       "text": [
        "\n",
        "oxford\n",
        "Google API Query Limit reached. Waiting... (maybe you should renew your IP)"
       ]
      },
      {
       "output_type": "stream",
       "stream": "stdout",
       "text": [
        "\n",
        "Found Location."
       ]
      },
      {
       "output_type": "stream",
       "stream": "stdout",
       "text": [
        "\n",
        "Reykjawik\n",
        "Found Location."
       ]
      },
      {
       "output_type": "stream",
       "stream": "stdout",
       "text": [
        "\n",
        "N/A\n",
        "No location determined yet.\n",
        "Reykjavik, Iceland\n",
        "Found Location."
       ]
      },
      {
       "output_type": "stream",
       "stream": "stdout",
       "text": [
        "\n",
        "Giza, Egypt\n",
        "Found Location."
       ]
      },
      {
       "output_type": "stream",
       "stream": "stdout",
       "text": [
        "\n",
        "Istanbul / TURKEY\n",
        "Found Location."
       ]
      },
      {
       "output_type": "stream",
       "stream": "stdout",
       "text": [
        "\n",
        "Reykjavik (Iceland)\n",
        "Found Location."
       ]
      },
      {
       "output_type": "stream",
       "stream": "stdout",
       "text": [
        "\n",
        "N/A\n",
        "No location determined yet.\n",
        "Requesting Conference Search...\n",
        "Done."
       ]
      },
      {
       "output_type": "stream",
       "stream": "stdout",
       "text": [
        "\n",
        "N/A"
       ]
      },
      {
       "output_type": "stream",
       "stream": "stdout",
       "text": [
        "\n",
        "No location determined yet.\n",
        "Bhubaneswar, India\n",
        "Found Location."
       ]
      },
      {
       "output_type": "stream",
       "stream": "stdout",
       "text": [
        "\n",
        "Phoenix, AZ, USA\n",
        "Found Location."
       ]
      },
      {
       "output_type": "stream",
       "stream": "stdout",
       "text": [
        "\n",
        "N/A\n",
        "No location determined yet.\n",
        "London\n",
        "Found Location."
       ]
      },
      {
       "output_type": "stream",
       "stream": "stdout",
       "text": [
        "\n",
        "Antalya, Turkey\n",
        "Found Location."
       ]
      },
      {
       "output_type": "stream",
       "stream": "stdout",
       "text": [
        "\n",
        "N/A\n",
        "No location determined yet.\n",
        "Hildesheim, Germany\n",
        "Found Location."
       ]
      },
      {
       "output_type": "stream",
       "stream": "stdout",
       "text": [
        "\n",
        "Rio de Janeiro, Brazil\n",
        "Found Location."
       ]
      },
      {
       "output_type": "stream",
       "stream": "stdout",
       "text": [
        "\n",
        "Paris, France\n",
        "Found Location."
       ]
      },
      {
       "output_type": "stream",
       "stream": "stdout",
       "text": [
        "\n",
        "Philadelphia, Pennsylvania, USA\n",
        "Found Location."
       ]
      },
      {
       "output_type": "stream",
       "stream": "stdout",
       "text": [
        "\n",
        "Newark, NJ, USA\n",
        "Found Location."
       ]
      },
      {
       "output_type": "stream",
       "stream": "stdout",
       "text": [
        "\n",
        "Amsterdam, The Netherlands\n",
        "Found Location."
       ]
      },
      {
       "output_type": "stream",
       "stream": "stdout",
       "text": [
        "\n",
        "Madrid, Spain\n",
        "Found Location."
       ]
      },
      {
       "output_type": "stream",
       "stream": "stdout",
       "text": [
        "\n",
        "Glasgow, UK\n",
        "Google API Query Limit reached. Waiting... (maybe you should renew your IP)"
       ]
      },
      {
       "output_type": "stream",
       "stream": "stdout",
       "text": [
        "\n",
        "Found Location."
       ]
      },
      {
       "output_type": "stream",
       "stream": "stdout",
       "text": [
        "\n",
        "Vienna, Austria\n",
        "Found Location."
       ]
      },
      {
       "output_type": "stream",
       "stream": "stdout",
       "text": [
        "\n",
        "Snowbird, Utah, USA\n",
        "Found Location."
       ]
      },
      {
       "output_type": "stream",
       "stream": "stdout",
       "text": [
        "\n",
        "Athens, Greece\n",
        "Found Location."
       ]
      },
      {
       "output_type": "stream",
       "stream": "stdout",
       "text": [
        "\n",
        "Tainan, Taiwan\n",
        "Found Location."
       ]
      },
      {
       "output_type": "stream",
       "stream": "stdout",
       "text": [
        "\n",
        "Paris, France\n",
        "Found Location."
       ]
      },
      {
       "output_type": "stream",
       "stream": "stdout",
       "text": [
        "\n",
        "Requesting Conference Search...\n",
        "Done."
       ]
      },
      {
       "output_type": "stream",
       "stream": "stdout",
       "text": [
        "\n",
        "Glasgow, UK"
       ]
      },
      {
       "output_type": "stream",
       "stream": "stdout",
       "text": [
        "\n",
        "Found Location."
       ]
      },
      {
       "output_type": "stream",
       "stream": "stdout",
       "text": [
        "\n",
        "Seoul, Republic, of, Korea\n",
        "Found Location."
       ]
      },
      {
       "output_type": "stream",
       "stream": "stdout",
       "text": [
        "\n",
        "Sydney, Australia\n",
        "Found Location."
       ]
      },
      {
       "output_type": "stream",
       "stream": "stdout",
       "text": [
        "\n",
        "Istanbul / TURKEY\n",
        "Found Location."
       ]
      },
      {
       "output_type": "stream",
       "stream": "stdout",
       "text": [
        "\n",
        "Seoul, South Korea\n",
        "Found Location."
       ]
      },
      {
       "output_type": "stream",
       "stream": "stdout",
       "text": [
        "\n",
        "Oxford, UK\n",
        "Found Location."
       ]
      },
      {
       "output_type": "stream",
       "stream": "stdout",
       "text": [
        "\n",
        "Santos, Brazil\n",
        "Found Location."
       ]
      },
      {
       "output_type": "stream",
       "stream": "stdout",
       "text": [
        "\n",
        "Peterhof, St. Petersburg, Russia\n",
        "Found Location."
       ]
      },
      {
       "output_type": "stream",
       "stream": "stdout",
       "text": [
        "\n",
        "Seoul, Korea\n",
        "Found Location."
       ]
      },
      {
       "output_type": "stream",
       "stream": "stdout",
       "text": [
        "\n",
        "Guimaraes, Portugal\n",
        "Found Location."
       ]
      },
      {
       "output_type": "stream",
       "stream": "stdout",
       "text": [
        "\n",
        "Sankt Goar, Germany\n",
        "Found Location."
       ]
      },
      {
       "output_type": "stream",
       "stream": "stdout",
       "text": [
        "\n",
        "Paris\n",
        "Google API Query Limit reached. Waiting... (maybe you should renew your IP)"
       ]
      },
      {
       "output_type": "stream",
       "stream": "stdout",
       "text": [
        "\n",
        "Found Location."
       ]
      },
      {
       "output_type": "stream",
       "stream": "stdout",
       "text": [
        "\n",
        "Vienna, Austria\n",
        "Found Location."
       ]
      },
      {
       "output_type": "stream",
       "stream": "stdout",
       "text": [
        "\n",
        "Southport, England\n",
        "Found Location."
       ]
      },
      {
       "output_type": "stream",
       "stream": "stdout",
       "text": [
        "\n",
        "Thessaloniki, Greece\n",
        "Found Location."
       ]
      },
      {
       "output_type": "stream",
       "stream": "stdout",
       "text": [
        "\n",
        "Chania, Crete, Greece\n",
        "Found Location."
       ]
      },
      {
       "output_type": "stream",
       "stream": "stdout",
       "text": [
        "\n",
        "Wales\n",
        "Found Location."
       ]
      },
      {
       "output_type": "stream",
       "stream": "stdout",
       "text": [
        "\n",
        "Toronto, Canada\n",
        "Found Location."
       ]
      },
      {
       "output_type": "stream",
       "stream": "stdout",
       "text": [
        "\n",
        "\u00c4\u00b0zmir / Turkey\n",
        "\n",
        "\u00c4\u00b0zmir / Turkey"
       ]
      },
      {
       "output_type": "stream",
       "stream": "stdout",
       "text": [
        "\n",
        "not found!\n",
        "Chicago, USA\n",
        "Found Location."
       ]
      },
      {
       "output_type": "stream",
       "stream": "stdout",
       "text": [
        "\n",
        "Requesting Conference Search...\n",
        "Done."
       ]
      },
      {
       "output_type": "stream",
       "stream": "stdout",
       "text": [
        "\n",
        "Seoul"
       ]
      },
      {
       "output_type": "stream",
       "stream": "stdout",
       "text": [
        "\n",
        "Found Location."
       ]
      },
      {
       "output_type": "stream",
       "stream": "stdout",
       "text": [
        "\n",
        "Hyderabad, India\n",
        "Found Location."
       ]
      },
      {
       "output_type": "stream",
       "stream": "stdout",
       "text": [
        "\n",
        "Amrita Vishwa Vidyapeetham, Coimbatore\n",
        "Found Location."
       ]
      },
      {
       "output_type": "stream",
       "stream": "stdout",
       "text": [
        "\n",
        "N/A\n",
        "No location determined yet.\n",
        "Seoul, Korea\n",
        "Found Location."
       ]
      },
      {
       "output_type": "stream",
       "stream": "stdout",
       "text": [
        "\n",
        "Istanbul / TURKEY\n",
        "Found Location."
       ]
      },
      {
       "output_type": "stream",
       "stream": "stdout",
       "text": [
        "\n",
        "Paris, France (collocated with AAMAS'14)\n",
        "Found Location."
       ]
      },
      {
       "output_type": "stream",
       "stream": "stdout",
       "text": [
        "\n",
        "Padua, Italy\n",
        "Found Location."
       ]
      },
      {
       "output_type": "stream",
       "stream": "stdout",
       "text": [
        "\n",
        "Berlin, Germany\n",
        "Found Location."
       ]
      },
      {
       "output_type": "stream",
       "stream": "stdout",
       "text": [
        "\n",
        "Bo\u00c4\u009fazi\u00c3\u00a7i University, \u00c4\u00b0stanbul, Turkey\n",
        "\n",
        "Bo\u00c4\u009fazi\u00c3\u00a7i University, \u00c4\u00b0stanbul, Turkey\n"
       ]
      },
      {
       "output_type": "stream",
       "stream": "stdout",
       "text": [
        "\n",
        "http://maps.googleapis.com/maps/api/geocode/xml?sensor=true&address=Bo%C3%84%C2%9Fazi%C3%83%C2%A7i+University%2C+%C3%84%C2%B0stanbul%2C+Turkey\n",
        "not found! Giving up...\n",
        "Glasgow, Scotland\n",
        "Found Location."
       ]
      },
      {
       "output_type": "stream",
       "stream": "stdout",
       "text": [
        "\n",
        "Singapore\n",
        "Found Location."
       ]
      },
      {
       "output_type": "stream",
       "stream": "stdout",
       "text": [
        "\n",
        "Berlin, Germany\n",
        "Found Location."
       ]
      },
      {
       "output_type": "stream",
       "stream": "stdout",
       "text": [
        "\n",
        "Berlin, Germany\n",
        "Found Location."
       ]
      },
      {
       "output_type": "stream",
       "stream": "stdout",
       "text": [
        "\n",
        "Berlin, Germany\n",
        "Found Location."
       ]
      },
      {
       "output_type": "stream",
       "stream": "stdout",
       "text": [
        "\n",
        "Lisbon, Portugal\n",
        "Found Location."
       ]
      },
      {
       "output_type": "stream",
       "stream": "stdout",
       "text": [
        "\n",
        "Paris (France)\n",
        "Found Location."
       ]
      },
      {
       "output_type": "stream",
       "stream": "stdout",
       "text": [
        "\n",
        "Rhine River, Germany\n",
        "Found Location."
       ]
      },
      {
       "output_type": "stream",
       "stream": "stdout",
       "text": [
        "\n",
        "Frankfurt/Main, Germany\n",
        "Found Location."
       ]
      },
      {
       "output_type": "stream",
       "stream": "stdout",
       "text": [
        "\n",
        "Capital Hilton, Washington DC\n",
        "Found Location."
       ]
      },
      {
       "output_type": "stream",
       "stream": "stdout",
       "text": [
        "\n",
        "Requesting Conference Search...\n",
        "Done."
       ]
      },
      {
       "output_type": "stream",
       "stream": "stdout",
       "text": [
        "\n",
        "Tirana, ALBANIA"
       ]
      },
      {
       "output_type": "stream",
       "stream": "stdout",
       "text": [
        "\n",
        "Found Location."
       ]
      },
      {
       "output_type": "stream",
       "stream": "stdout",
       "text": [
        "\n",
        "Portland, OR USA\n",
        "Found Location."
       ]
      },
      {
       "output_type": "stream",
       "stream": "stdout",
       "text": [
        "\n",
        "ITER, SOA University, Bhubaneswar\n",
        "Found Location."
       ]
      },
      {
       "output_type": "stream",
       "stream": "stdout",
       "text": [
        "\n",
        "India\n",
        "Found Location."
       ]
      },
      {
       "output_type": "stream",
       "stream": "stdout",
       "text": [
        "\n",
        "N/A\n",
        "No location determined yet.\n",
        "Tunis, Tunisia\n",
        "Found Location."
       ]
      },
      {
       "output_type": "stream",
       "stream": "stdout",
       "text": [
        "\n",
        "Al-Qassim, Saudi Arabia\n",
        "Found Location."
       ]
      },
      {
       "output_type": "stream",
       "stream": "stdout",
       "text": [
        "\n",
        "Shanghai, China\n",
        "Found Location."
       ]
      },
      {
       "output_type": "stream",
       "stream": "stdout",
       "text": [
        "\n",
        "Warsaw, Poland\n",
        "Found Location."
       ]
      },
      {
       "output_type": "stream",
       "stream": "stdout",
       "text": [
        "\n",
        "Xi'an\n",
        "Found Location."
       ]
      },
      {
       "output_type": "stream",
       "stream": "stdout",
       "text": [
        "\n",
        "Edinburgh, UK\n",
        "Found Location."
       ]
      },
      {
       "output_type": "stream",
       "stream": "stdout",
       "text": [
        "\n",
        "Tiruchengode\n",
        "Found Location."
       ]
      },
      {
       "output_type": "stream",
       "stream": "stdout",
       "text": [
        "\n",
        "Seoul, Korea\n",
        "Found Location."
       ]
      },
      {
       "output_type": "stream",
       "stream": "stdout",
       "text": [
        "\n",
        "University of Fribourg, Switzerland\n",
        "Found Location."
       ]
      },
      {
       "output_type": "stream",
       "stream": "stdout",
       "text": [
        "\n",
        "N/A\n",
        "No location determined yet.\n",
        "ICST\n",
        "Google API Query Limit reached. Waiting... (maybe you should renew your IP)"
       ]
      },
      {
       "output_type": "stream",
       "stream": "stdout",
       "text": [
        "\n",
        "Found Location."
       ]
      },
      {
       "output_type": "stream",
       "stream": "stdout",
       "text": [
        "\n",
        "Madrid, Spain\n",
        "Found Location."
       ]
      },
      {
       "output_type": "stream",
       "stream": "stdout",
       "text": [
        "\n",
        "Madrid, Spain\n",
        "Found Location."
       ]
      },
      {
       "output_type": "stream",
       "stream": "stdout",
       "text": [
        "\n",
        "Madrid, Spain\n",
        "Found Location."
       ]
      },
      {
       "output_type": "stream",
       "stream": "stdout",
       "text": [
        "\n",
        "Marrakech\n",
        "Found Location."
       ]
      },
      {
       "output_type": "stream",
       "stream": "stdout",
       "text": [
        "\n",
        "Requesting Conference Search...\n",
        "Done."
       ]
      },
      {
       "output_type": "stream",
       "stream": "stdout",
       "text": [
        "\n",
        "Ioannina, Greece"
       ]
      },
      {
       "output_type": "stream",
       "stream": "stdout",
       "text": [
        "\n",
        "Found Location."
       ]
      },
      {
       "output_type": "stream",
       "stream": "stdout",
       "text": [
        "\n",
        "N/A\n",
        "No location determined yet.\n",
        "Le-Bois-Plage-en-R\u00c3\u00a9, France\n",
        "Found Location."
       ]
      },
      {
       "output_type": "stream",
       "stream": "stdout",
       "text": [
        "\n",
        "Reykjavik (Iceland)\n",
        "Found Location."
       ]
      },
      {
       "output_type": "stream",
       "stream": "stdout",
       "text": [
        "\n",
        "Leuven, Belgium\n",
        "Found Location."
       ]
      },
      {
       "output_type": "stream",
       "stream": "stdout",
       "text": [
        "\n",
        "Minneapolis, Minnesota, USA\n",
        "Found Location."
       ]
      },
      {
       "output_type": "stream",
       "stream": "stdout",
       "text": [
        "\n",
        "Stuttgart, Germany\n",
        "Found Location."
       ]
      },
      {
       "output_type": "stream",
       "stream": "stdout",
       "text": [
        "\n",
        "Phoenix\n",
        "Found Location."
       ]
      },
      {
       "output_type": "stream",
       "stream": "stdout",
       "text": [
        "\n",
        "Glasgow/ Edinburgh\n",
        "Found Location."
       ]
      },
      {
       "output_type": "stream",
       "stream": "stdout",
       "text": [
        "\n",
        "Udine\n",
        "Found Location."
       ]
      },
      {
       "output_type": "stream",
       "stream": "stdout",
       "text": [
        "\n",
        "Dalian, China\n",
        "Found Location."
       ]
      },
      {
       "output_type": "stream",
       "stream": "stdout",
       "text": [
        "\n",
        "Prague\n",
        "Found Location."
       ]
      },
      {
       "output_type": "stream",
       "stream": "stdout",
       "text": [
        "\n",
        "Jerba, Tunisia\n",
        "Found Location."
       ]
      },
      {
       "output_type": "stream",
       "stream": "stdout",
       "text": [
        "\n",
        "Minneapolis, MN, USA\n",
        "Found Location."
       ]
      },
      {
       "output_type": "stream",
       "stream": "stdout",
       "text": [
        "\n",
        "N/A\n",
        "No location determined yet.\n",
        "Madrid, Spain\n",
        "Found Location."
       ]
      },
      {
       "output_type": "stream",
       "stream": "stdout",
       "text": [
        "\n",
        "Rome (Italy)\n",
        "Found Location."
       ]
      },
      {
       "output_type": "stream",
       "stream": "stdout",
       "text": [
        "\n",
        "Quebec City, Canada\n",
        "Found Location."
       ]
      },
      {
       "output_type": "stream",
       "stream": "stdout",
       "text": [
        "\n",
        "Sydney, Australia\n",
        "Found Location."
       ]
      },
      {
       "output_type": "stream",
       "stream": "stdout",
       "text": [
        "\n",
        "Hangzhou,China\n",
        "Found Location."
       ]
      },
      {
       "output_type": "stream",
       "stream": "stdout",
       "text": [
        "\n",
        "Requesting Conference Search...\n",
        "Done."
       ]
      },
      {
       "output_type": "stream",
       "stream": "stdout",
       "text": [
        "\n",
        "Istanbul / TURKEY"
       ]
      },
      {
       "output_type": "stream",
       "stream": "stdout",
       "text": [
        "\n",
        "Found Location."
       ]
      },
      {
       "output_type": "stream",
       "stream": "stdout",
       "text": [
        "\n",
        "Warsaw, Poland\n",
        "Found Location."
       ]
      },
      {
       "output_type": "stream",
       "stream": "stdout",
       "text": [
        "\n",
        "Lille, France\n",
        "Found Location."
       ]
      },
      {
       "output_type": "stream",
       "stream": "stdout",
       "text": [
        "\n",
        "Vienna (Austria)\n",
        "Found Location."
       ]
      },
      {
       "output_type": "stream",
       "stream": "stdout",
       "text": [
        "\n",
        "New York, New York\n",
        "Found Location."
       ]
      },
      {
       "output_type": "stream",
       "stream": "stdout",
       "text": [
        "\n",
        "Nancy, France\n",
        "Found Location."
       ]
      },
      {
       "output_type": "stream",
       "stream": "stdout",
       "text": [
        "\n",
        "University of Fribourg\n",
        "Found Location."
       ]
      },
      {
       "output_type": "stream",
       "stream": "stdout",
       "text": [
        "\n",
        "Karlskrona, Sweden\n",
        "Found Location."
       ]
      },
      {
       "output_type": "stream",
       "stream": "stdout",
       "text": [
        "\n",
        "Munich, Germany\n",
        "Found Location."
       ]
      },
      {
       "output_type": "stream",
       "stream": "stdout",
       "text": [
        "\n",
        "Thessaloniki, Greece\n",
        "Found Location."
       ]
      },
      {
       "output_type": "stream",
       "stream": "stdout",
       "text": [
        "\n",
        "Budva, Montenegro\n",
        "Found Location."
       ]
      },
      {
       "output_type": "stream",
       "stream": "stdout",
       "text": [
        "\n",
        "Istanbul, Turkey\n",
        "Google API Query Limit reached. Waiting... (maybe you should renew your IP)"
       ]
      },
      {
       "output_type": "stream",
       "stream": "stdout",
       "text": [
        "\n",
        "Found Location."
       ]
      },
      {
       "output_type": "stream",
       "stream": "stdout",
       "text": [
        "\n",
        "Samos, Greece\n",
        "Found Location."
       ]
      },
      {
       "output_type": "stream",
       "stream": "stdout",
       "text": [
        "\n",
        "N/A\n",
        "No location determined yet.\n",
        "Singapore\n",
        "Found Location."
       ]
      },
      {
       "output_type": "stream",
       "stream": "stdout",
       "text": [
        "\n",
        "Chennai,India\n",
        "Found Location."
       ]
      },
      {
       "output_type": "stream",
       "stream": "stdout",
       "text": [
        "\n",
        "Cochin,India\n",
        "Found Location."
       ]
      },
      {
       "output_type": "stream",
       "stream": "stdout",
       "text": [
        "\n",
        "Istanbul / TURKEY\n",
        "Found Location."
       ]
      },
      {
       "output_type": "stream",
       "stream": "stdout",
       "text": [
        "\n",
        "Cape Town, South Africa\n",
        "Found Location."
       ]
      },
      {
       "output_type": "stream",
       "stream": "stdout",
       "text": [
        "\n",
        "Milan, Italy\n",
        "Found Location."
       ]
      },
      {
       "output_type": "stream",
       "stream": "stdout",
       "text": [
        "\n",
        "Requesting Conference Search...\n",
        "Done."
       ]
      },
      {
       "output_type": "stream",
       "stream": "stdout",
       "text": [
        "\n",
        "Rotterdam"
       ]
      },
      {
       "output_type": "stream",
       "stream": "stdout",
       "text": [
        "\n",
        "Found Location."
       ]
      },
      {
       "output_type": "stream",
       "stream": "stdout",
       "text": [
        "\n",
        "Hanoi, Vietnam\n",
        "Found Location."
       ]
      },
      {
       "output_type": "stream",
       "stream": "stdout",
       "text": [
        "\n",
        "Iran\n",
        "Found Location."
       ]
      },
      {
       "output_type": "stream",
       "stream": "stdout",
       "text": [
        "\n",
        "Asia Pacific University of Technology an\n",
        "\n",
        "Asia Pacific University of Technology an"
       ]
      },
      {
       "output_type": "stream",
       "stream": "stdout",
       "text": [
        "\n",
        "not found!\n",
        "Buraidah-Al Qassim-Saudi Arabia\n",
        "Found Location."
       ]
      },
      {
       "output_type": "stream",
       "stream": "stdout",
       "text": [
        "\n",
        "Vancouver, BC, Canada\n",
        "Found Location."
       ]
      },
      {
       "output_type": "stream",
       "stream": "stdout",
       "text": [
        "\n",
        "Marseille (France)-Porquerolles Island\n",
        "Found Location."
       ]
      },
      {
       "output_type": "stream",
       "stream": "stdout",
       "text": [
        "\n",
        "Kuala Lumpur, Malaysia\n",
        "Found Location."
       ]
      },
      {
       "output_type": "stream",
       "stream": "stdout",
       "text": [
        "\n",
        "Larnaca, Cyprus\n",
        "Found Location."
       ]
      },
      {
       "output_type": "stream",
       "stream": "stdout",
       "text": [
        "\n",
        "N/A\n",
        "No location determined yet.\n",
        "Tianjin, China\n",
        "Found Location."
       ]
      },
      {
       "output_type": "stream",
       "stream": "stdout",
       "text": [
        "\n",
        "Singapore\n",
        "Found Location."
       ]
      },
      {
       "output_type": "stream",
       "stream": "stdout",
       "text": [
        "\n",
        "Miami,FL, USA.\n",
        "Found Location."
       ]
      },
      {
       "output_type": "stream",
       "stream": "stdout",
       "text": [
        "\n",
        "Shenzhen, China\n",
        "Found Location."
       ]
      },
      {
       "output_type": "stream",
       "stream": "stdout",
       "text": [
        "\n",
        "Singapore\n",
        "Found Location."
       ]
      },
      {
       "output_type": "stream",
       "stream": "stdout",
       "text": [
        "\n",
        "Shenzhen, China\n",
        "Found Location."
       ]
      },
      {
       "output_type": "stream",
       "stream": "stdout",
       "text": [
        "\n",
        "Shenzhen,China\n",
        "Found Location."
       ]
      },
      {
       "output_type": "stream",
       "stream": "stdout",
       "text": [
        "\n",
        "Singapore\n",
        "Found Location."
       ]
      },
      {
       "output_type": "stream",
       "stream": "stdout",
       "text": [
        "\n",
        "Hong Kong, China\n",
        "Found Location."
       ]
      },
      {
       "output_type": "stream",
       "stream": "stdout",
       "text": [
        "\n",
        "Hong Kong\n",
        "Found Location."
       ]
      },
      {
       "output_type": "stream",
       "stream": "stdout",
       "text": [
        "\n",
        "Done.\n"
       ]
      }
     ],
     "prompt_number": 3
    },
    {
     "cell_type": "heading",
     "level": 2,
     "metadata": {},
     "source": [
      "Clean Data and create KML"
     ]
    },
    {
     "cell_type": "code",
     "collapsed": false,
     "input": [
      "kml = simplekml.Kml()\n",
      "# Konferenzen l\u00f6schen, f\u00fcr die kein Ort gefunden wurden\n",
      "lon=[]\n",
      "lat=[]\n",
      "print('Creating .kml file.')\n",
      "for i in range(len(confs)):\n",
      "    if confs[i][3] == 0.0:\n",
      "        pass\n",
      "    else:\n",
      "        # KML\n",
      "        pnt=kml.newpoint(name=confs[i][0], coords=[(confs[i][3],confs[i][2])])\n",
      "        desct = confs[i][6]\n",
      "        desct += '\\nfrom ' + confs[i][1]\n",
      "        desct += '\\nin ' + confs[i][4] + '.'\n",
      "        desct += '\\n\\nCFP deadline: ' + confs[i][7]\n",
      "        desct += '\\n\\nInfos: ' + confs[i][5]\n",
      "        pnt.description = desct\n",
      "        \n",
      "        # List for Map\n",
      "        lon.append(confs[i][3])\n",
      "        lat.append(confs[i][2])\n",
      "\n",
      "kml.save(\"WikiCFP-Conferences.kml\")\n",
      "print('Done.')\n",
      "print('%s of %s conference venues without place.' % (len(confs)-len(lat),len(confs)))\n",
      "if (len(confs)-len(lat)) == 0:\n",
      "    print 'Perfect.'\n",
      "elif (len(confs)-len(lat)) > 5:\n",
      "    print 'Maybe you should check your Data'"
     ],
     "language": "python",
     "metadata": {},
     "outputs": [
      {
       "output_type": "stream",
       "stream": "stdout",
       "text": [
        "Creating .kml file.\n",
        "Done."
       ]
      },
      {
       "output_type": "stream",
       "stream": "stdout",
       "text": [
        "\n",
        "18 of 200 conference venues without place.\n",
        "Maybe you should check your Data\n"
       ]
      }
     ],
     "prompt_number": 4
    },
    {
     "cell_type": "heading",
     "level": 2,
     "metadata": {},
     "source": [
      "Render the Map"
     ]
    },
    {
     "cell_type": "heading",
     "level": 3,
     "metadata": {},
     "source": [
      "World"
     ]
    },
    {
     "cell_type": "code",
     "collapsed": false,
     "input": [
      "# Thanks to this great tutorial:\n",
      "# http://peak5390.wordpress.com/2012/12/08/mapping-global-earthquake-activity-a-matplotlib-basemap-tutorial/\n",
      "\n",
      "map = Basemap(projection='robin', resolution = 'l', area_thresh = 1000.0,\n",
      "              lat_0=0, lon_0=0)\n",
      "map.drawcoastlines()\n",
      "map.drawcountries()\n",
      "#map.fillcontinents(color = 'gray')\n",
      "map.bluemarble()\n",
      "map.drawmapboundary()\n",
      "map.drawmeridians(np.arange(0, 360, 30))\n",
      "map.drawparallels(np.arange(-90, 90, 30))\n",
      "\n",
      "x,y = map(lon, lat)\n",
      "map.plot(x, y, 'ro', markersize=6)\n",
      "plt.title('WikiCFP Conferences 2014 Worldmap')\n",
      "plt.savefig('WikiCFP-Conferences-2014-Worldmap.png', bbox_inches='tight', dpi=300, transparent=True)\n",
      "#plt.show()\n",
      "plt.close()"
     ],
     "language": "python",
     "metadata": {},
     "outputs": [],
     "prompt_number": 5
    },
    {
     "cell_type": "heading",
     "level": 3,
     "metadata": {},
     "source": [
      "Europe"
     ]
    },
    {
     "cell_type": "code",
     "collapsed": false,
     "input": [
      "m = Basemap(llcrnrlon=-14.0,llcrnrlat=32.0,urcrnrlon=44.4,urcrnrlat=55.3,\n",
      "            resolution='i',projection='stere',lon_0=10.0,lat_0=54.7)\n",
      "\n",
      "m.drawcoastlines()\n",
      "m.fillcontinents(color='gray')\n",
      "# draw parallels and meridians.\n",
      "#m.drawparallels(np.arange(-40,61.,2.))\n",
      "#m.drawmeridians(np.arange(0.,43.,2.))\n",
      "m.drawmapboundary()\n",
      "m.drawcountries()\n",
      "\n",
      "x,y = m(lon, lat)\n",
      "m.plot(x, y, 'ro', markersize=6)\n",
      "\n",
      "\n",
      "plt.title(\"European WikiCFP Conferences 2014\")\n",
      "plt.savefig('WikiCFP-Conferences-2014-Europe.png', bbox_inches='tight', dpi=300, transparent=True)\n",
      "\n",
      "#plt.show()\n",
      "plt.close()"
     ],
     "language": "python",
     "metadata": {},
     "outputs": [],
     "prompt_number": 6
    },
    {
     "cell_type": "heading",
     "level": 3,
     "metadata": {},
     "source": [
      "USA"
     ]
    },
    {
     "cell_type": "code",
     "collapsed": false,
     "input": [
      "mus = Basemap(llcrnrlon=-125.0,llcrnrlat=20.0,urcrnrlon=-60.0,urcrnrlat=51.4,\n",
      "            resolution='i',projection='stere',lon_0=-95.0,lat_0=35.0)\n",
      "\n",
      "mus.drawcoastlines()\n",
      "mus.fillcontinents(color='gray')\n",
      "# draw parallels and meridians.\n",
      "#m.drawparallels(np.arange(-40,61.,2.))\n",
      "#m.drawmeridians(np.arange(0.,43.,2.))\n",
      "mus.drawmapboundary()\n",
      "mus.drawcountries()\n",
      "mus.drawstates()\n",
      "\n",
      "x,y = mus(lon, lat)\n",
      "mus.plot(x, y, 'ro', markersize=6)\n",
      "\n",
      "\n",
      "plt.title(\"US WikiCFP Conferences 2014\")\n",
      "plt.savefig('WikiCFP-Conferences-2014-USA.png', bbox_inches='tight', dpi=300, transparent=True)\n",
      "\n",
      "#plt.show()\n",
      "plt.close()"
     ],
     "language": "python",
     "metadata": {},
     "outputs": [],
     "prompt_number": 7
    },
    {
     "cell_type": "code",
     "collapsed": false,
     "input": [
      "print('Done.')"
     ],
     "language": "python",
     "metadata": {},
     "outputs": [
      {
       "output_type": "stream",
       "stream": "stdout",
       "text": [
        "Done.\n"
       ]
      }
     ],
     "prompt_number": 8
    }
   ],
   "metadata": {}
  }
 ]
}